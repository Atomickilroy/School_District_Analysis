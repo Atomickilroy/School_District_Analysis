{
 "cells": [
  {
   "cell_type": "code",
   "execution_count": null,
   "id": "d01d43e5",
   "metadata": {},
   "outputs": [],
   "source": []
  },
  {
   "cell_type": "code",
   "execution_count": null,
   "id": "1ff83cbb",
   "metadata": {},
   "outputs": [],
   "source": [
    "#Define the function say_hello and have it print Hello!"
   ]
  },
  {
   "cell_type": "code",
   "execution_count": null,
   "id": "be8975aa",
   "metadata": {},
   "outputs": [],
   "source": [
    "def say_hello():\n",
    "    print(\"Hello!\")"
   ]
  },
  {
   "cell_type": "code",
   "execution_count": null,
   "id": "76d1a8f6",
   "metadata": {},
   "outputs": [],
   "source": []
  },
  {
   "cell_type": "code",
   "execution_count": 3,
   "id": "1b9896ee",
   "metadata": {},
   "outputs": [],
   "source": [
    "#Call the function "
   ]
  },
  {
   "cell_type": "code",
   "execution_count": 4,
   "id": "83433d11",
   "metadata": {},
   "outputs": [
    {
     "name": "stdout",
     "output_type": "stream",
     "text": [
      "Hello!\n"
     ]
    }
   ],
   "source": [
    "say_hello()"
   ]
  },
  {
   "cell_type": "code",
   "execution_count": 5,
   "id": "3c270c2a",
   "metadata": {},
   "outputs": [],
   "source": [
    "# Define the function \"say_something\" so it pritnts whenever is passed as the variable when called"
   ]
  },
  {
   "cell_type": "code",
   "execution_count": 6,
   "id": "6be6ed9b",
   "metadata": {},
   "outputs": [],
   "source": [
    "def say_something(something):\n",
    "    print(something)"
   ]
  },
  {
   "cell_type": "code",
   "execution_count": 7,
   "id": "54205f82",
   "metadata": {},
   "outputs": [],
   "source": [
    "#Call the function "
   ]
  },
  {
   "cell_type": "code",
   "execution_count": 8,
   "id": "8de4bc25",
   "metadata": {},
   "outputs": [
    {
     "name": "stdout",
     "output_type": "stream",
     "text": [
      "Hello World!\n"
     ]
    }
   ],
   "source": [
    "say_something(\"Hello World!\")"
   ]
  },
  {
   "cell_type": "code",
   "execution_count": null,
   "id": "25a2aa40",
   "metadata": {},
   "outputs": [],
   "source": []
  },
  {
   "cell_type": "code",
   "execution_count": 9,
   "id": "a4bd9940",
   "metadata": {},
   "outputs": [],
   "source": [
    "# we can pass a variable inside the function and have that variable printed to the output"
   ]
  },
  {
   "cell_type": "code",
   "execution_count": 10,
   "id": "00a843d4",
   "metadata": {},
   "outputs": [],
   "source": [
    "Jane_says = \"Hello, my name is Jane. I'm learning Python\""
   ]
  },
  {
   "cell_type": "code",
   "execution_count": 11,
   "id": "29854b7c",
   "metadata": {},
   "outputs": [
    {
     "name": "stdout",
     "output_type": "stream",
     "text": [
      "Hello, my name is Jane. I'm learning Python\n"
     ]
    }
   ],
   "source": [
    "say_something(Jane_says)"
   ]
  },
  {
   "cell_type": "code",
   "execution_count": null,
   "id": "4adf22d7",
   "metadata": {},
   "outputs": [],
   "source": []
  },
  {
   "cell_type": "code",
   "execution_count": 12,
   "id": "15027a31",
   "metadata": {},
   "outputs": [],
   "source": [
    "#Define a function that calculates the percentafe of stifents that passed both"
   ]
  },
  {
   "cell_type": "code",
   "execution_count": 13,
   "id": "371b840e",
   "metadata": {},
   "outputs": [],
   "source": [
    "#math and reading and returns the passing percentage when the function is called"
   ]
  },
  {
   "cell_type": "code",
   "execution_count": 21,
   "id": "68fea235",
   "metadata": {},
   "outputs": [],
   "source": [
    "def passing_math_percent (pass_math_count,student_count):\n",
    "    return pass_math_count / float(student_count) * 100"
   ]
  },
  {
   "cell_type": "code",
   "execution_count": null,
   "id": "a031342f",
   "metadata": {},
   "outputs": [],
   "source": []
  },
  {
   "cell_type": "code",
   "execution_count": 22,
   "id": "ad16bc5e",
   "metadata": {},
   "outputs": [],
   "source": [
    "passing_math_count = 29370\n",
    "total_student_count = 39170"
   ]
  },
  {
   "cell_type": "code",
   "execution_count": 23,
   "id": "e54db338",
   "metadata": {},
   "outputs": [],
   "source": [
    "#Call the function with both varibles "
   ]
  },
  {
   "cell_type": "code",
   "execution_count": 24,
   "id": "b6abe8f1",
   "metadata": {},
   "outputs": [
    {
     "data": {
      "text/plain": [
       "74.9808526933878"
      ]
     },
     "execution_count": 24,
     "metadata": {},
     "output_type": "execute_result"
    }
   ],
   "source": [
    "passing_math_percent(passing_math_count, total_student_count)"
   ]
  },
  {
   "cell_type": "code",
   "execution_count": null,
   "id": "2be150f3",
   "metadata": {},
   "outputs": [],
   "source": []
  },
  {
   "cell_type": "code",
   "execution_count": 25,
   "id": "99d0a01e",
   "metadata": {},
   "outputs": [],
   "source": [
    "# map() Function"
   ]
  },
  {
   "cell_type": "code",
   "execution_count": 26,
   "id": "78b855b8",
   "metadata": {},
   "outputs": [],
   "source": [
    "#Add a list of grades "
   ]
  },
  {
   "cell_type": "code",
   "execution_count": 27,
   "id": "233e4fc8",
   "metadata": {},
   "outputs": [],
   "source": [
    "my_grades = ['B','C','B','D']"
   ]
  },
  {
   "cell_type": "code",
   "execution_count": 28,
   "id": "6285a12b",
   "metadata": {},
   "outputs": [],
   "source": [
    "#Import pandas"
   ]
  },
  {
   "cell_type": "code",
   "execution_count": 29,
   "id": "7f94ca99",
   "metadata": {},
   "outputs": [],
   "source": [
    "import pandas as pd"
   ]
  },
  {
   "cell_type": "code",
   "execution_count": 30,
   "id": "902801fd",
   "metadata": {},
   "outputs": [],
   "source": [
    "#Covert the my_grades to a Series"
   ]
  },
  {
   "cell_type": "code",
   "execution_count": 35,
   "id": "00295f60",
   "metadata": {},
   "outputs": [],
   "source": [
    "my_grades = pd.Series(my_grades)"
   ]
  },
  {
   "cell_type": "code",
   "execution_count": 36,
   "id": "bf615fa6",
   "metadata": {},
   "outputs": [
    {
     "data": {
      "text/plain": [
       "0    B\n",
       "1    C\n",
       "2    B\n",
       "3    D\n",
       "dtype: object"
      ]
     },
     "execution_count": 36,
     "metadata": {},
     "output_type": "execute_result"
    }
   ],
   "source": [
    "my_grades"
   ]
  },
  {
   "cell_type": "code",
   "execution_count": 37,
   "id": "cfc833f1",
   "metadata": {},
   "outputs": [],
   "source": [
    "# Change the grades by one letter grade"
   ]
  },
  {
   "cell_type": "code",
   "execution_count": 38,
   "id": "f51cb6ba",
   "metadata": {},
   "outputs": [
    {
     "data": {
      "text/plain": [
       "0    A\n",
       "1    B\n",
       "2    A\n",
       "3    C\n",
       "dtype: object"
      ]
     },
     "execution_count": 38,
     "metadata": {},
     "output_type": "execute_result"
    }
   ],
   "source": [
    "my_grades.map({'B': 'A', 'C':'B' , 'D':'C'})"
   ]
  },
  {
   "cell_type": "code",
   "execution_count": null,
   "id": "89ac6ce4",
   "metadata": {},
   "outputs": [],
   "source": []
  },
  {
   "cell_type": "code",
   "execution_count": 39,
   "id": "081d5156",
   "metadata": {},
   "outputs": [],
   "source": [
    "# python format() Function"
   ]
  },
  {
   "cell_type": "code",
   "execution_count": 40,
   "id": "6427f4c8",
   "metadata": {},
   "outputs": [],
   "source": [
    "# Using the format() Function"
   ]
  },
  {
   "cell_type": "code",
   "execution_count": 41,
   "id": "0f9ad14c",
   "metadata": {},
   "outputs": [],
   "source": [
    "my_grades = [92.54, 85.65,86.83,98.32]"
   ]
  },
  {
   "cell_type": "code",
   "execution_count": 43,
   "id": "ddee786b",
   "metadata": {},
   "outputs": [
    {
     "name": "stdout",
     "output_type": "stream",
     "text": [
      "93\n",
      "86\n",
      "87\n",
      "98\n"
     ]
    }
   ],
   "source": [
    "for grade in my_grades:\n",
    "    print(\"{:.0f}\".format(grade))"
   ]
  },
  {
   "cell_type": "code",
   "execution_count": null,
   "id": "9e67041a",
   "metadata": {},
   "outputs": [],
   "source": []
  },
  {
   "cell_type": "code",
   "execution_count": 44,
   "id": "0a9b7389",
   "metadata": {},
   "outputs": [],
   "source": [
    "# Convert the numerical grade to a Series"
   ]
  },
  {
   "cell_type": "code",
   "execution_count": 49,
   "id": "d70a229b",
   "metadata": {},
   "outputs": [],
   "source": [
    "my_grades = pd.Series([ 92.34 , 84.56 , 86.78 , 78.32])"
   ]
  },
  {
   "cell_type": "code",
   "execution_count": 50,
   "id": "7cccd9bb",
   "metadata": {},
   "outputs": [
    {
     "data": {
      "text/plain": [
       "0    92.34\n",
       "1    84.56\n",
       "2    86.78\n",
       "3    78.32\n",
       "dtype: float64"
      ]
     },
     "execution_count": 50,
     "metadata": {},
     "output_type": "execute_result"
    }
   ],
   "source": [
    "my_grades"
   ]
  },
  {
   "cell_type": "code",
   "execution_count": 51,
   "id": "2254c456",
   "metadata": {},
   "outputs": [],
   "source": [
    "#Format the grades to the nearest whole number percentage"
   ]
  },
  {
   "cell_type": "code",
   "execution_count": 52,
   "id": "ff3a00f7",
   "metadata": {},
   "outputs": [
    {
     "data": {
      "text/plain": [
       "0    92\n",
       "1    85\n",
       "2    87\n",
       "3    78\n",
       "dtype: object"
      ]
     },
     "execution_count": 52,
     "metadata": {},
     "output_type": "execute_result"
    }
   ],
   "source": [
    "my_grades.map(\"{:.0f}\".format)"
   ]
  },
  {
   "cell_type": "code",
   "execution_count": null,
   "id": "910331ce",
   "metadata": {},
   "outputs": [],
   "source": []
  }
 ],
 "metadata": {
  "kernelspec": {
   "display_name": "PythonData",
   "language": "python",
   "name": "pythondata"
  },
  "language_info": {
   "codemirror_mode": {
    "name": "ipython",
    "version": 3
   },
   "file_extension": ".py",
   "mimetype": "text/x-python",
   "name": "python",
   "nbconvert_exporter": "python",
   "pygments_lexer": "ipython3",
   "version": "3.7.13"
  }
 },
 "nbformat": 4,
 "nbformat_minor": 5
}
